{
 "cells": [
  {
   "cell_type": "markdown",
   "metadata": {
    "deletable": false,
    "editable": false,
    "jupyter": {
     "outputs_hidden": false
    },
    "nbgrader": {
     "cell_type": "markdown",
     "checksum": "e92ae54b56c595a3f107ae8831f672f4",
     "grade": false,
     "grade_id": "cell-07afed56cf294302",
     "locked": true,
     "schema_version": 3,
     "solution": false,
     "task": false
    }
   },
   "source": [
    "# Activity: Variables in Python\n",
    "\n",
    "## Introduction\n",
    "\n",
    "In this activity you will practice the following:\n",
    "- Assigning specific values / types to variables\n",
    "- Overwriting variables"
   ]
  },
  {
   "cell_type": "markdown",
   "metadata": {
    "deletable": false,
    "editable": false,
    "jupyter": {
     "outputs_hidden": false
    },
    "nbgrader": {
     "cell_type": "markdown",
     "checksum": "39d86925998a5214aa539ce829422ddb",
     "grade": false,
     "grade_id": "cell-c0fb85ea7628a807",
     "locked": true,
     "schema_version": 3,
     "solution": false,
     "task": false
    }
   },
   "source": [
    "#### Question 1\n",
    "\n",
    "Create variable `name` and assign any value you want to it."
   ]
  },
  {
   "cell_type": "code",
   "execution_count": 1,
   "metadata": {
    "deletable": false,
    "jupyter": {
     "outputs_hidden": false
    },
    "nbgrader": {
     "cell_type": "code",
     "checksum": "c4c60524d9eecc0fa19c091aac5330b0",
     "grade": false,
     "grade_id": "cell-89bbfa8c8528e855",
     "locked": false,
     "schema_version": 3,
     "solution": true,
     "task": false
    }
   },
   "outputs": [],
   "source": [
    "name = \"Jihyun\""
   ]
  },
  {
   "cell_type": "code",
   "execution_count": 2,
   "metadata": {
    "deletable": false,
    "editable": false,
    "jupyter": {
     "outputs_hidden": false
    },
    "nbgrader": {
     "cell_type": "code",
     "checksum": "4a7520ee6ec857c7b3bdbf54637cb45a",
     "grade": true,
     "grade_id": "cell-3e323501e904d29b",
     "locked": true,
     "points": 1,
     "schema_version": 3,
     "solution": false,
     "task": false
    }
   },
   "outputs": [
    {
     "name": "stdout",
     "output_type": "stream",
     "text": [
      "Make sure you created the variable: name\n",
      "Jihyun\n"
     ]
    }
   ],
   "source": [
    "# Question 1 Grading Checks\n",
    "\n",
    "print('Make sure you created the variable: name')\n",
    "print(name)\n",
    "\n"
   ]
  },
  {
   "cell_type": "markdown",
   "metadata": {
    "deletable": false,
    "editable": false,
    "jupyter": {
     "outputs_hidden": false
    },
    "nbgrader": {
     "cell_type": "markdown",
     "checksum": "f10863615b99ee8808fb9d034ac701bb",
     "grade": false,
     "grade_id": "cell-390bc301d78bbd90",
     "locked": true,
     "schema_version": 3,
     "solution": false,
     "task": false
    }
   },
   "source": [
    "#### Question 2\n",
    "\n",
    "Assign the value of `2.7` to the variable `seconds`."
   ]
  },
  {
   "cell_type": "code",
   "execution_count": 3,
   "metadata": {
    "deletable": false,
    "nbgrader": {
     "cell_type": "code",
     "checksum": "68cfd4f1a2b5590e6320d9a32a0fa307",
     "grade": false,
     "grade_id": "cell-8d5cb3e863fba294",
     "locked": false,
     "schema_version": 3,
     "solution": true,
     "task": false
    }
   },
   "outputs": [],
   "source": [
    "seconds = 2.7"
   ]
  },
  {
   "cell_type": "code",
   "execution_count": 4,
   "metadata": {
    "deletable": false,
    "editable": false,
    "nbgrader": {
     "cell_type": "code",
     "checksum": "dc2583a41e1eda9a294737777391d740",
     "grade": true,
     "grade_id": "cell-ea1c3340532802f6",
     "locked": true,
     "points": 1,
     "schema_version": 3,
     "solution": false,
     "task": false
    }
   },
   "outputs": [],
   "source": [
    "# Question 2 Grading Checks\n",
    "\n",
    "assert isinstance(seconds, float), 'Have you assigned a float value to the variable seconds?'\n"
   ]
  },
  {
   "cell_type": "markdown",
   "metadata": {
    "deletable": false,
    "editable": false,
    "nbgrader": {
     "cell_type": "markdown",
     "checksum": "638f70b12626fbf5f4bd1c05a325f956",
     "grade": false,
     "grade_id": "cell-90cc11f589839248",
     "locked": true,
     "schema_version": 3,
     "solution": false,
     "task": false
    }
   },
   "source": [
    "#### Question 3\n",
    "\n",
    "Assign boolean value `True` to the variable `python_is_fun`."
   ]
  },
  {
   "cell_type": "code",
   "execution_count": 5,
   "metadata": {
    "deletable": false,
    "nbgrader": {
     "cell_type": "code",
     "checksum": "1219d72e5c2a89e520cb9b7db19799ae",
     "grade": false,
     "grade_id": "cell-513f546ddd5fd8a9",
     "locked": false,
     "schema_version": 3,
     "solution": true,
     "task": false
    }
   },
   "outputs": [],
   "source": [
    "python_is_fun = True"
   ]
  },
  {
   "cell_type": "code",
   "execution_count": 6,
   "metadata": {
    "deletable": false,
    "editable": false,
    "nbgrader": {
     "cell_type": "code",
     "checksum": "8b309197cc0d16708724c7121b57d201",
     "grade": true,
     "grade_id": "cell-5ed340946941a67f",
     "locked": true,
     "points": 1,
     "schema_version": 3,
     "solution": false,
     "task": false
    }
   },
   "outputs": [],
   "source": [
    "# Question 3 Grading Checks\n",
    "\n",
    "assert isinstance(python_is_fun, bool), 'Have you assigned a boolean value to the python_is_fun variable?'"
   ]
  },
  {
   "cell_type": "code",
   "execution_count": null,
   "metadata": {},
   "outputs": [],
   "source": []
  }
 ],
 "metadata": {
  "kernelspec": {
   "display_name": "Python 3",
   "language": "python",
   "name": "python3"
  },
  "language_info": {
   "codemirror_mode": {
    "name": "ipython",
    "version": 3
   },
   "file_extension": ".py",
   "mimetype": "text/x-python",
   "name": "python",
   "nbconvert_exporter": "python",
   "pygments_lexer": "ipython3",
   "version": "3.7.6"
  }
 },
 "nbformat": 4,
 "nbformat_minor": 4
}
