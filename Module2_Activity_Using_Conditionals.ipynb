{
 "cells": [
  {
   "cell_type": "markdown",
   "metadata": {
    "deletable": false,
    "editable": false,
    "jupyter": {
     "outputs_hidden": false
    },
    "nbgrader": {
     "cell_type": "markdown",
     "checksum": "4f6e46323c84d6a0edb5d68a606e779d",
     "grade": false,
     "grade_id": "cell-2946e6acc368f825",
     "locked": true,
     "schema_version": 3,
     "solution": false,
     "task": false
    }
   },
   "source": [
    "# Activity: Using Conditionals\n",
    "\n",
    "## Introduction\n",
    "\n",
    "In this activity, you will use conditionals to solve the following questions.\n",
    "This activity contains:\n",
    "- `if` statements\n",
    "- `if-else` statements\n",
    "- `if-elif-else` statements\n",
    "- Nested `if` statements\n",
    "- `if` statements with logical operators\n"
   ]
  },
  {
   "cell_type": "markdown",
   "metadata": {
    "deletable": false,
    "editable": false,
    "jupyter": {
     "outputs_hidden": false
    },
    "nbgrader": {
     "cell_type": "markdown",
     "checksum": "a014c0f7e011a7fbd17f3f80dfb79af9",
     "grade": false,
     "grade_id": "cell-efe66906d2effe0b",
     "locked": true,
     "points": 0,
     "schema_version": 3,
     "solution": false,
     "task": true
    }
   },
   "source": [
    "#### Question 1\n",
    "\n",
    "Using the below modulo operator(%, which returns the remainder after division), write an `if-else` statement that assigns the value `True` to the variable `is_even` if `number` is even or `False` if `number` is odd."
   ]
  },
  {
   "cell_type": "code",
   "execution_count": 1,
   "metadata": {
    "deletable": false,
    "editable": false,
    "nbgrader": {
     "cell_type": "code",
     "checksum": "e5e4e882224bd911cb669ab1c670198d",
     "grade": false,
     "grade_id": "cell-8bf46e79eb7ad463",
     "locked": true,
     "schema_version": 3,
     "solution": false,
     "task": false
    }
   },
   "outputs": [
    {
     "data": {
      "text/plain": [
       "True"
      ]
     },
     "execution_count": 1,
     "metadata": {},
     "output_type": "execute_result"
    }
   ],
   "source": [
    "number = 24\n",
    "is_even = False\n",
    "\n",
    "#Modulo Operator\n",
    "number % 2 == 0"
   ]
  },
  {
   "cell_type": "code",
   "execution_count": 2,
   "metadata": {
    "ExecuteTime": {
     "end_time": "2023-09-12T20:31:58.637325600Z",
     "start_time": "2023-09-12T20:31:58.602029800Z"
    },
    "deletable": false,
    "jupyter": {
     "outputs_hidden": false
    },
    "nbgrader": {
     "cell_type": "code",
     "checksum": "2cb174e0a23f2f59281fefa536bf2cbd",
     "grade": false,
     "grade_id": "cell-182243ac3ee299ba",
     "locked": false,
     "schema_version": 3,
     "solution": true,
     "task": false
    }
   },
   "outputs": [],
   "source": [
    "is_even = number % 2 == 0"
   ]
  },
  {
   "cell_type": "code",
   "execution_count": 3,
   "metadata": {
    "ExecuteTime": {
     "end_time": "2023-09-12T20:31:58.637325600Z",
     "start_time": "2023-09-12T20:31:58.605539Z"
    },
    "deletable": false,
    "editable": false,
    "jupyter": {
     "outputs_hidden": false
    },
    "nbgrader": {
     "cell_type": "code",
     "checksum": "a788bc79f8985ed177e70f9321a2a5af",
     "grade": true,
     "grade_id": "cell-a4bae717c9a2ceff",
     "locked": true,
     "points": 1,
     "schema_version": 3,
     "solution": false,
     "task": false
    }
   },
   "outputs": [],
   "source": [
    "# Question 1 Grading Checks\n",
    "\n",
    "assert type(is_even) == bool"
   ]
  },
  {
   "cell_type": "markdown",
   "metadata": {
    "deletable": false,
    "editable": false,
    "jupyter": {
     "outputs_hidden": false
    },
    "nbgrader": {
     "cell_type": "markdown",
     "checksum": "eeb37df95db4c632115f18a1d3a0f769",
     "grade": false,
     "grade_id": "cell-e8bca3fb02a0a510",
     "locked": true,
     "schema_version": 3,
     "solution": false,
     "task": false
    }
   },
   "source": [
    "#### Question 2\n",
    "\n",
    "Write an `if-elif-else` statement that assigns the string `\"positive\"` to the variable `sign` if the `integer_number` is positive, `\"negative\"` if `integer_number` is negative, or `\"zero\"` if `integer_number` is 0."
   ]
  },
  {
   "cell_type": "code",
   "execution_count": 4,
   "metadata": {
    "ExecuteTime": {
     "end_time": "2023-09-12T20:31:58.640331200Z",
     "start_time": "2023-09-12T20:31:58.616639500Z"
    },
    "deletable": false,
    "editable": false,
    "jupyter": {
     "outputs_hidden": false
    },
    "nbgrader": {
     "cell_type": "code",
     "checksum": "db43bb8867a6def42877c2335bd077a2",
     "grade": false,
     "grade_id": "cell-aef652c544c0937f",
     "locked": true,
     "schema_version": 3,
     "solution": false,
     "task": false
    }
   },
   "outputs": [],
   "source": [
    "integer_number = 0\n",
    "sign = ''"
   ]
  },
  {
   "cell_type": "code",
   "execution_count": 5,
   "metadata": {
    "deletable": false,
    "nbgrader": {
     "cell_type": "code",
     "checksum": "136d44389def039dcea27eafe6fcaafb",
     "grade": false,
     "grade_id": "cell-45bdb87006d0c115",
     "locked": false,
     "schema_version": 3,
     "solution": true,
     "task": false
    }
   },
   "outputs": [],
   "source": [
    "sign = \"positive\" if integer_number > 0 else \"negative\" if integer_number < 0 else \"zero\""
   ]
  },
  {
   "cell_type": "code",
   "execution_count": 6,
   "metadata": {
    "ExecuteTime": {
     "end_time": "2023-09-12T20:31:58.646571900Z",
     "start_time": "2023-09-12T20:31:58.619075700Z"
    },
    "deletable": false,
    "editable": false,
    "jupyter": {
     "outputs_hidden": false
    },
    "nbgrader": {
     "cell_type": "code",
     "checksum": "4cb0f6a0d27638fa08054440bdddaabc",
     "grade": true,
     "grade_id": "cell-23106579aad523d4",
     "locked": true,
     "points": 1,
     "schema_version": 3,
     "solution": false,
     "task": false
    }
   },
   "outputs": [],
   "source": [
    "# Question 2 Grading Checks\n",
    "\n",
    "assert type(sign) == str\n",
    "assert len(sign) > 0\n"
   ]
  },
  {
   "cell_type": "markdown",
   "metadata": {
    "deletable": false,
    "editable": false,
    "jupyter": {
     "outputs_hidden": false
    },
    "nbgrader": {
     "cell_type": "markdown",
     "checksum": "c5ded6498de527621b3990618a66552f",
     "grade": false,
     "grade_id": "cell-cd19870c6fbeec07",
     "locked": true,
     "schema_version": 3,
     "solution": false,
     "task": false
    }
   },
   "source": [
    "#### Question 3\n",
    "\n",
    "You are given a `dict` called `person` with a person's name and an age.\n",
    "\n",
    "Write a nested `if` statement that first checks if the person is old enough to vote, and assigns the value `True` to the variable `can_vote` if they are older than 17.\n",
    "\n",
    "Then, check if they are 21 or older and assigns the value `True` to the `can_rent_car` variable.\n",
    "\n",
    "Finally, print the `can_vote` and `can_rent_car` variables.\n"
   ]
  },
  {
   "cell_type": "code",
   "execution_count": 7,
   "metadata": {
    "ExecuteTime": {
     "end_time": "2023-09-12T20:31:58.647391900Z",
     "start_time": "2023-09-12T20:31:58.622796200Z"
    },
    "deletable": false,
    "editable": false,
    "jupyter": {
     "outputs_hidden": false
    },
    "nbgrader": {
     "cell_type": "code",
     "checksum": "ff110a339ff5330dc22bd72cfb215d84",
     "grade": false,
     "grade_id": "cell-8e4763c7152379f2",
     "locked": true,
     "schema_version": 3,
     "solution": false,
     "task": false
    }
   },
   "outputs": [],
   "source": [
    "person = {\n",
    "    \"name\": \"James Dean\",\n",
    "    \"age\": 19,\n",
    "}\n",
    "can_vote = False\n",
    "can_rent_car = False"
   ]
  },
  {
   "cell_type": "code",
   "execution_count": 8,
   "metadata": {
    "deletable": false,
    "nbgrader": {
     "cell_type": "code",
     "checksum": "fa0b4d560c6a8b9092fef2633e95ee77",
     "grade": false,
     "grade_id": "cell-f5ffa30c811c147c",
     "locked": false,
     "schema_version": 3,
     "solution": true,
     "task": false
    }
   },
   "outputs": [],
   "source": [
    "can_vote = person[\"age\"] > 17\n",
    "can_rent_a_car = person[\"age\"] >= 21"
   ]
  },
  {
   "cell_type": "code",
   "execution_count": 9,
   "metadata": {
    "ExecuteTime": {
     "end_time": "2023-09-12T20:31:58.669549400Z",
     "start_time": "2023-09-12T20:31:58.626311800Z"
    },
    "deletable": false,
    "editable": false,
    "jupyter": {
     "outputs_hidden": false
    },
    "nbgrader": {
     "cell_type": "code",
     "checksum": "e5970b17e86de308d9131e99795ad13e",
     "grade": true,
     "grade_id": "cell-ced09616fccaa86f",
     "locked": true,
     "points": 1,
     "schema_version": 3,
     "solution": false,
     "task": false
    }
   },
   "outputs": [],
   "source": [
    "# Question 3 Grading Checks\n",
    "\n",
    "assert type(can_vote) == bool\n",
    "assert type(can_rent_car) == bool\n"
   ]
  },
  {
   "cell_type": "code",
   "execution_count": null,
   "metadata": {},
   "outputs": [],
   "source": []
  }
 ],
 "metadata": {
  "kernelspec": {
   "display_name": "Python 3",
   "language": "python",
   "name": "python3"
  },
  "language_info": {
   "codemirror_mode": {
    "name": "ipython",
    "version": 3
   },
   "file_extension": ".py",
   "mimetype": "text/x-python",
   "name": "python",
   "nbconvert_exporter": "python",
   "pygments_lexer": "ipython3",
   "version": "3.7.6"
  }
 },
 "nbformat": 4,
 "nbformat_minor": 4
}
