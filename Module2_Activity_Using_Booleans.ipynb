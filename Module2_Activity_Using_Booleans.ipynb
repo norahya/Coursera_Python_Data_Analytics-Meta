{
 "cells": [
  {
   "cell_type": "markdown",
   "metadata": {
    "deletable": false,
    "editable": false,
    "jupyter": {
     "outputs_hidden": false
    },
    "nbgrader": {
     "cell_type": "markdown",
     "checksum": "1fc59850454ce1c00bb405614c08d070",
     "grade": false,
     "grade_id": "cell-9bad7f38399609c6",
     "locked": true,
     "schema_version": 3,
     "solution": false,
     "task": false
    }
   },
   "source": [
    "# Activity: Using Booleans\n",
    "\n",
    "## Introduction\n",
    "\n",
    "In this activ|ity, you will use booleans to complete the following questions.\n",
    "This activity includes:\n",
    "- Logical operators\n",
    "- Boolean expressions\n",
    "- Membership operators\n"
   ]
  },
  {
   "cell_type": "markdown",
   "metadata": {
    "deletable": false,
    "editable": false,
    "jupyter": {
     "outputs_hidden": false
    },
    "nbgrader": {
     "cell_type": "markdown",
     "checksum": "421ce5ac7b1dc973b2c799bad0b366ef",
     "grade": false,
     "grade_id": "cell-95eb3f5e0364850a",
     "locked": true,
     "schema_version": 3,
     "solution": false,
     "task": false
    }
   },
   "source": [
    "#### Question 1\n",
    "\n",
    "Check if the variable age is greater than or equal to 18 and less than or equal to 25. Assign the result to a variable called is_age_valid.\n",
    "\n",
    "If the age is valid, negate the variable `can_drive` and assign the result to a new variable called `cannot_drive`.\n"
   ]
  },
  {
   "cell_type": "code",
   "execution_count": 1,
   "metadata": {
    "deletable": false,
    "editable": false,
    "jupyter": {
     "outputs_hidden": false
    },
    "nbgrader": {
     "cell_type": "code",
     "checksum": "8891ca4f99be26953866fc76e8b53a71",
     "grade": false,
     "grade_id": "cell-b961651f92cef28c",
     "locked": true,
     "schema_version": 3,
     "solution": false,
     "task": false
    }
   },
   "outputs": [],
   "source": [
    "can_drive = False\n",
    "age = 20"
   ]
  },
  {
   "cell_type": "code",
   "execution_count": 2,
   "metadata": {
    "deletable": false,
    "jupyter": {
     "outputs_hidden": false
    },
    "nbgrader": {
     "cell_type": "code",
     "checksum": "d2d026618809f39cb7c4f3e95739613e",
     "grade": false,
     "grade_id": "cell-9640f4cde71b29f1",
     "locked": false,
     "schema_version": 3,
     "solution": true,
     "task": false
    }
   },
   "outputs": [],
   "source": [
    "is_age_valid = age >= 18 and age <= 25\n",
    "\n",
    "if is_age_valid:\n",
    "    cannot_drive = not can_drive\n",
    "else:\n",
    "    cannot_drive = can_drive"
   ]
  },
  {
   "cell_type": "code",
   "execution_count": 3,
   "metadata": {
    "deletable": false,
    "editable": false,
    "jupyter": {
     "outputs_hidden": false
    },
    "nbgrader": {
     "cell_type": "code",
     "checksum": "d0145dda9babd1367ace73140584594a",
     "grade": true,
     "grade_id": "cell-887f1340ad039e18",
     "locked": true,
     "points": 1,
     "schema_version": 3,
     "solution": false,
     "task": false
    }
   },
   "outputs": [],
   "source": [
    "# Question 1 Grading Checks\n",
    "\n",
    "assert isinstance(cannot_drive, bool), \"Make sure you are assigning a boolean value to cannot_drive\"\n",
    "assert isinstance(is_age_valid, bool), \"Make sure you are assigning a boolean value to is_age_valid\"\n"
   ]
  },
  {
   "cell_type": "markdown",
   "metadata": {
    "deletable": false,
    "editable": false,
    "jupyter": {
     "outputs_hidden": false
    },
    "nbgrader": {
     "cell_type": "markdown",
     "checksum": "8f756e7fd5032866a01e0d688f295678",
     "grade": false,
     "grade_id": "cell-cbf82d80fe7d6ec6",
     "locked": true,
     "schema_version": 3,
     "solution": false,
     "task": false
    }
   },
   "source": [
    "#### Question 2\n",
    "\n",
    "Check if the variable `name` is in the list `names`. Assign the result to a variable called `is_name_valid`.\n"
   ]
  },
  {
   "cell_type": "code",
   "execution_count": 4,
   "metadata": {
    "deletable": false,
    "editable": false,
    "jupyter": {
     "outputs_hidden": false
    },
    "nbgrader": {
     "cell_type": "code",
     "checksum": "c439c71253caf3ff24804d6ed9844a85",
     "grade": false,
     "grade_id": "cell-24b2f9427289cef6",
     "locked": true,
     "schema_version": 3,
     "solution": false,
     "task": false
    }
   },
   "outputs": [],
   "source": [
    "name = \"John\"\n",
    "names = [\"John\", \"Jane\", \"Jack\"]"
   ]
  },
  {
   "cell_type": "code",
   "execution_count": 5,
   "metadata": {
    "deletable": false,
    "jupyter": {
     "outputs_hidden": false
    },
    "nbgrader": {
     "cell_type": "code",
     "checksum": "45d2d0100513bef0a0b11b9b2112e683",
     "grade": false,
     "grade_id": "cell-b04289a88517ce29",
     "locked": false,
     "schema_version": 3,
     "solution": true,
     "task": false
    }
   },
   "outputs": [],
   "source": [
    "is_name_valid = name in names"
   ]
  },
  {
   "cell_type": "code",
   "execution_count": 6,
   "metadata": {
    "deletable": false,
    "editable": false,
    "jupyter": {
     "outputs_hidden": false
    },
    "nbgrader": {
     "cell_type": "code",
     "checksum": "d3dc5eb37cbb1197852961987bd2701a",
     "grade": true,
     "grade_id": "cell-8df0006d2710420b",
     "locked": true,
     "points": 1,
     "schema_version": 3,
     "solution": false,
     "task": false
    }
   },
   "outputs": [],
   "source": [
    "# Question 2 Grading Checks\n",
    "\n",
    "assert isinstance(is_name_valid, bool), \"Make sure you are assigning a boolean value to is_name_valid\"\n"
   ]
  },
  {
   "cell_type": "markdown",
   "metadata": {
    "deletable": false,
    "editable": false,
    "jupyter": {
     "outputs_hidden": false
    },
    "nbgrader": {
     "cell_type": "markdown",
     "checksum": "6693ef265a9d8ca4e592d7cde57f0cde",
     "grade": false,
     "grade_id": "cell-a58b430c1892089d",
     "locked": true,
     "schema_version": 3,
     "solution": false,
     "task": false
    }
   },
   "source": [
    "#### Question 3\n",
    "\n",
    "Write a boolean expression that checks if the variable `whole_num` is not equal to `float_num`. Assign the result to a variable called `is_not_equal`.\n"
   ]
  },
  {
   "cell_type": "code",
   "execution_count": 7,
   "metadata": {
    "deletable": false,
    "editable": false,
    "jupyter": {
     "outputs_hidden": false
    },
    "nbgrader": {
     "cell_type": "code",
     "checksum": "186aee70f66fd55c2f68c249f27c3495",
     "grade": false,
     "grade_id": "cell-b94da77291ec76b0",
     "locked": true,
     "schema_version": 3,
     "solution": false,
     "task": false
    }
   },
   "outputs": [],
   "source": [
    "whole_num = 5\n",
    "float_num = 5.0"
   ]
  },
  {
   "cell_type": "code",
   "execution_count": 8,
   "metadata": {
    "deletable": false,
    "jupyter": {
     "outputs_hidden": false
    },
    "nbgrader": {
     "cell_type": "code",
     "checksum": "c21197d1d2c3a4515191d2d7f7b5586e",
     "grade": false,
     "grade_id": "cell-3764d95214f9d8e6",
     "locked": false,
     "schema_version": 3,
     "solution": true,
     "task": false
    }
   },
   "outputs": [],
   "source": [
    "is_not_equal = whole_num != float_num"
   ]
  },
  {
   "cell_type": "code",
   "execution_count": 9,
   "metadata": {
    "deletable": false,
    "editable": false,
    "jupyter": {
     "outputs_hidden": false
    },
    "nbgrader": {
     "cell_type": "code",
     "checksum": "e99ec8a72fba41ba9cc3059c6c205208",
     "grade": true,
     "grade_id": "cell-b89d59ea6b9ee8dd",
     "locked": true,
     "points": 1,
     "schema_version": 3,
     "solution": false,
     "task": false
    }
   },
   "outputs": [],
   "source": [
    "# Question 3 Grading Checks\n",
    "\n",
    "assert isinstance(is_not_equal, bool), \"Make sure you are assigning a boolean value to is_not_equal\"\n"
   ]
  },
  {
   "cell_type": "code",
   "execution_count": null,
   "metadata": {},
   "outputs": [],
   "source": []
  }
 ],
 "metadata": {
  "kernelspec": {
   "display_name": "Python 3",
   "language": "python",
   "name": "python3"
  },
  "language_info": {
   "codemirror_mode": {
    "name": "ipython",
    "version": 3
   },
   "file_extension": ".py",
   "mimetype": "text/x-python",
   "name": "python",
   "nbconvert_exporter": "python",
   "pygments_lexer": "ipython3",
   "version": "3.7.6"
  }
 },
 "nbformat": 4,
 "nbformat_minor": 4
}
