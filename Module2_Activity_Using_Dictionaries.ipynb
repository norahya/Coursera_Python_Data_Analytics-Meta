{
 "cells": [
  {
   "cell_type": "markdown",
   "metadata": {
    "deletable": false,
    "editable": false,
    "jupyter": {
     "outputs_hidden": false
    },
    "nbgrader": {
     "cell_type": "markdown",
     "checksum": "d174bbe296c25bdf04f5f3270ee4d6b3",
     "grade": false,
     "grade_id": "cell-5ce4327eba42ae32",
     "locked": true,
     "schema_version": 3,
     "solution": false,
     "task": false
    }
   },
   "source": [
    "# Activity: Using Dictionaries\n",
    "\n",
    "## Introduction\n",
    "\n",
    "In this activity you will practice the following:\n",
    "- Creating dictionaries\n",
    "- Accessing values in a dictionary\n",
    "- Adding key-value pairs to a dictionary\n",
    "- Modifying values in a dictionary\n",
    "- Dictionary methods\n"
   ]
  },
  {
   "cell_type": "markdown",
   "metadata": {
    "deletable": false,
    "editable": false,
    "jupyter": {
     "outputs_hidden": false
    },
    "nbgrader": {
     "cell_type": "markdown",
     "checksum": "17b82501df65d1dfc05a667a3f34e050",
     "grade": false,
     "grade_id": "cell-3d27342562af9d10",
     "locked": true,
     "schema_version": 3,
     "solution": false,
     "task": false
    }
   },
   "source": [
    "#### Question 1\n",
    "\n",
    "Create a dictionary called `student` which contains the following:\n",
    "- name: derrick\n",
    "- age: 17\n",
    "- math_grade: 90\n"
   ]
  },
  {
   "cell_type": "code",
   "execution_count": 1,
   "metadata": {
    "deletable": false,
    "jupyter": {
     "outputs_hidden": false
    },
    "nbgrader": {
     "cell_type": "code",
     "checksum": "6bd0a1b1b89e4fd613266b19110cab2b",
     "grade": false,
     "grade_id": "cell-f574fadfa206fd79",
     "locked": false,
     "schema_version": 3,
     "solution": true,
     "task": false
    }
   },
   "outputs": [],
   "source": [
    "student = {\n",
    "    \"name\": \"derrick\",\n",
    "    \"age\": 17,\n",
    "    \"math_grade\": 90\n",
    "}"
   ]
  },
  {
   "cell_type": "code",
   "execution_count": 2,
   "metadata": {
    "deletable": false,
    "editable": false,
    "jupyter": {
     "outputs_hidden": false
    },
    "nbgrader": {
     "cell_type": "code",
     "checksum": "955c5211fc099c11b1686344b094f73c",
     "grade": true,
     "grade_id": "cell-290f7938a07cd6d9",
     "locked": true,
     "points": 1,
     "schema_version": 3,
     "solution": false,
     "task": false
    }
   },
   "outputs": [],
   "source": [
    "# Question 1 Grading Checks\n",
    "\n",
    "assert isinstance(student, dict), 'Have you created a dictionary called student?'\n",
    "assert len(student) == 3, 'Have you added the correct number of key-value pairs to the dictionary?'\n"
   ]
  },
  {
   "cell_type": "markdown",
   "metadata": {
    "deletable": false,
    "editable": false,
    "jupyter": {
     "outputs_hidden": false
    },
    "nbgrader": {
     "cell_type": "markdown",
     "checksum": "d287e0cb5d66116628c2da7c69459b3b",
     "grade": false,
     "grade_id": "cell-b6612a057fdd895d",
     "locked": true,
     "schema_version": 3,
     "solution": false,
     "task": false
    }
   },
   "source": [
    "#### Question 2\n",
    "\n",
    "Access the value of the `math_grade` key in the `student` dictionary you created in Question 1 and assign it to a variable called `grade`.\n"
   ]
  },
  {
   "cell_type": "code",
   "execution_count": 3,
   "metadata": {
    "deletable": false,
    "jupyter": {
     "outputs_hidden": false
    },
    "nbgrader": {
     "cell_type": "code",
     "checksum": "fd03c3bccb4939d2222500096de49190",
     "grade": false,
     "grade_id": "cell-92771faa1a1ba3f7",
     "locked": false,
     "schema_version": 3,
     "solution": true,
     "task": false
    }
   },
   "outputs": [],
   "source": [
    "grade = student[\"math_grade\"]"
   ]
  },
  {
   "cell_type": "code",
   "execution_count": 4,
   "metadata": {
    "deletable": false,
    "editable": false,
    "jupyter": {
     "outputs_hidden": false
    },
    "nbgrader": {
     "cell_type": "code",
     "checksum": "db1eff624844b7c63aee51b9a547a5fe",
     "grade": true,
     "grade_id": "cell-c024fb20adf99fd1",
     "locked": true,
     "points": 1,
     "schema_version": 3,
     "solution": false,
     "task": false
    }
   },
   "outputs": [],
   "source": [
    "# Question 2 Grading Checks\n",
    "\n",
    "assert isinstance(grade, int), 'Have you accessed the value of the math_grade key in the student dictionary?'\n"
   ]
  },
  {
   "cell_type": "markdown",
   "metadata": {
    "deletable": false,
    "editable": false,
    "jupyter": {
     "outputs_hidden": false
    },
    "nbgrader": {
     "cell_type": "markdown",
     "checksum": "1a9848558dd035dabc1c18635b498c69",
     "grade": false,
     "grade_id": "cell-e52304dacf1df66e",
     "locked": true,
     "schema_version": 3,
     "solution": false,
     "task": false
    }
   },
   "source": [
    "#### Question 3\n",
    "\n",
    "Add a new key-value pair to the `student` dictionary you created in Question 1. The new key should be `english_grade` and the value should be `85`.\n"
   ]
  },
  {
   "cell_type": "code",
   "execution_count": 5,
   "metadata": {
    "deletable": false,
    "jupyter": {
     "outputs_hidden": false
    },
    "nbgrader": {
     "cell_type": "code",
     "checksum": "5ee702422e141bbcea888b49491ea77d",
     "grade": false,
     "grade_id": "cell-28dfce50b2efee61",
     "locked": false,
     "schema_version": 3,
     "solution": true,
     "task": false
    }
   },
   "outputs": [],
   "source": [
    "student[\"english_grade\"] = 85"
   ]
  },
  {
   "cell_type": "code",
   "execution_count": 6,
   "metadata": {
    "deletable": false,
    "editable": false,
    "jupyter": {
     "outputs_hidden": false
    },
    "nbgrader": {
     "cell_type": "code",
     "checksum": "5fa55f14db7660d1ebdf3dba3865e1ec",
     "grade": true,
     "grade_id": "cell-ad33c27005dd25c1",
     "locked": true,
     "points": 1,
     "schema_version": 3,
     "solution": false,
     "task": false
    }
   },
   "outputs": [],
   "source": [
    "# Question 3 Grading Checks\n",
    "\n",
    "assert len(student) == 4, 'Have you added the correct number of key-value pairs to the dictionary?'\n"
   ]
  },
  {
   "cell_type": "markdown",
   "metadata": {
    "deletable": false,
    "editable": false,
    "jupyter": {
     "outputs_hidden": false
    },
    "nbgrader": {
     "cell_type": "markdown",
     "checksum": "772c87d09b6dad90d75a1dcde2a5a3bb",
     "grade": false,
     "grade_id": "cell-645be4f490068abe",
     "locked": true,
     "schema_version": 3,
     "solution": false,
     "task": false
    }
   },
   "source": [
    "#### Question 4\n",
    "\n",
    "Using the given dictionary `top_student`, store all the values in the dictionary in a variable called `top_student_grades`.\n"
   ]
  },
  {
   "cell_type": "code",
   "execution_count": 7,
   "metadata": {
    "deletable": false,
    "editable": false,
    "jupyter": {
     "outputs_hidden": false
    },
    "nbgrader": {
     "cell_type": "code",
     "checksum": "e99a1a1aa638a5a753ce3231207ac22c",
     "grade": false,
     "grade_id": "cell-15dae58bddd6ed8d",
     "locked": true,
     "schema_version": 3,
     "solution": false,
     "task": false
    }
   },
   "outputs": [],
   "source": [
    "top_student = {\n",
    "    \"math_grade\": 95,\n",
    "    \"english_grade\": 98,\n",
    "    \"history_grade\": 90,\n",
    "    \"science_grade\": 93,\n",
    "    \"art_grade\": 92,\n",
    "    \"music_grade\": 96\n",
    "}"
   ]
  },
  {
   "cell_type": "code",
   "execution_count": 8,
   "metadata": {
    "deletable": false,
    "jupyter": {
     "outputs_hidden": false
    },
    "nbgrader": {
     "cell_type": "code",
     "checksum": "691729cd0e335e395e274e7efd2298ad",
     "grade": false,
     "grade_id": "cell-1d292257a672451a",
     "locked": false,
     "schema_version": 3,
     "solution": true,
     "task": false
    }
   },
   "outputs": [],
   "source": [
    "top_student_grades = top_student.values()"
   ]
  },
  {
   "cell_type": "code",
   "execution_count": 9,
   "metadata": {
    "deletable": false,
    "editable": false,
    "jupyter": {
     "outputs_hidden": false
    },
    "nbgrader": {
     "cell_type": "code",
     "checksum": "8c88c5bc987530ddbaba80d218729694",
     "grade": true,
     "grade_id": "cell-d2323c8fa84b0fc1",
     "locked": true,
     "points": 1,
     "schema_version": 3,
     "solution": false,
     "task": false
    }
   },
   "outputs": [],
   "source": [
    "# Question 4 Grading Checks\n",
    "\n"
   ]
  },
  {
   "cell_type": "code",
   "execution_count": null,
   "metadata": {},
   "outputs": [],
   "source": []
  }
 ],
 "metadata": {
  "kernelspec": {
   "display_name": "Python 3",
   "language": "python",
   "name": "python3"
  },
  "language_info": {
   "codemirror_mode": {
    "name": "ipython",
    "version": 3
   },
   "file_extension": ".py",
   "mimetype": "text/x-python",
   "name": "python",
   "nbconvert_exporter": "python",
   "pygments_lexer": "ipython3",
   "version": "3.7.6"
  }
 },
 "nbformat": 4,
 "nbformat_minor": 4
}
