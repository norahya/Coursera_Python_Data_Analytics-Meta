{
 "cells": [
  {
   "cell_type": "markdown",
   "metadata": {
    "deletable": false,
    "editable": false,
    "jupyter": {
     "outputs_hidden": false
    },
    "nbgrader": {
     "cell_type": "markdown",
     "checksum": "aa37804ceaa2deb31b87bfed95964d9f",
     "grade": false,
     "grade_id": "cell-b9fcfbe29238edca",
     "locked": true,
     "schema_version": 3,
     "solution": false,
     "task": false
    }
   },
   "source": [
    "# Activity: Using Lists & Tuples\n",
    "\n",
    "## Introduction\n",
    "\n",
    "In this activity you will practice using and creating lists and tuples.\n",
    "This activity contains the following topics:\n",
    "- Creating lists\n",
    "- Creating tuples\n",
    "- Indexing\n",
    "- Slicing\n",
    "- List methods\n",
    "- Unpacking\n"
   ]
  },
  {
   "cell_type": "markdown",
   "metadata": {
    "deletable": false,
    "editable": false,
    "jupyter": {
     "outputs_hidden": false
    },
    "nbgrader": {
     "cell_type": "markdown",
     "checksum": "291e8ca2d963107344469fed1183fcdc",
     "grade": false,
     "grade_id": "cell-73f4205cc4bc8b70",
     "locked": true,
     "schema_version": 3,
     "solution": false,
     "task": false
    }
   },
   "source": [
    "#### Question 1\n",
    "\n",
    "Create a list called `countries` with the names of 5 different countries of your choice.\n"
   ]
  },
  {
   "cell_type": "code",
   "execution_count": 1,
   "metadata": {
    "deletable": false,
    "jupyter": {
     "outputs_hidden": false
    },
    "nbgrader": {
     "cell_type": "code",
     "checksum": "fc667264f47087c76a01a5f1fe6a469c",
     "grade": false,
     "grade_id": "cell-abc66a5348e14a02",
     "locked": false,
     "schema_version": 3,
     "solution": true,
     "task": false
    }
   },
   "outputs": [],
   "source": [
    "countries = [\"South Korea\", \"Japan\", \"China\", \"Vietnam\", \"Thailand\"]"
   ]
  },
  {
   "cell_type": "code",
   "execution_count": 2,
   "metadata": {
    "deletable": false,
    "editable": false,
    "jupyter": {
     "outputs_hidden": false
    },
    "nbgrader": {
     "cell_type": "code",
     "checksum": "d29eb98628d4879e940ffbbe56c9ed85",
     "grade": true,
     "grade_id": "cell-2ce11156bb8d81a2",
     "locked": true,
     "points": 1,
     "schema_version": 3,
     "solution": false,
     "task": false
    }
   },
   "outputs": [],
   "source": [
    "# Question 1 Grading Checks\n",
    "\n",
    "assert isinstance(countries, list), 'Your variable is not a list'\n"
   ]
  },
  {
   "cell_type": "markdown",
   "metadata": {
    "deletable": false,
    "editable": false,
    "jupyter": {
     "outputs_hidden": false
    },
    "nbgrader": {
     "cell_type": "markdown",
     "checksum": "c59c0714122370becce05a06d01693c0",
     "grade": false,
     "grade_id": "cell-909c3d3416bbc1af",
     "locked": true,
     "schema_version": 3,
     "solution": false,
     "task": false
    }
   },
   "source": [
    "#### Question 2\n",
    "\n",
    "Using the `countries` list, assign the first and last countries in the list to the variables `first_country` and `last_country` respectively.\n"
   ]
  },
  {
   "cell_type": "code",
   "execution_count": 3,
   "metadata": {
    "deletable": false,
    "jupyter": {
     "outputs_hidden": false
    },
    "nbgrader": {
     "cell_type": "code",
     "checksum": "af74251daf455b9c36d11c379540ad62",
     "grade": false,
     "grade_id": "cell-f25ba6392107e856",
     "locked": false,
     "schema_version": 3,
     "solution": true,
     "task": false
    }
   },
   "outputs": [],
   "source": [
    "first_country = countries[0]\n",
    "last_country = countries[-1]"
   ]
  },
  {
   "cell_type": "code",
   "execution_count": 4,
   "metadata": {
    "deletable": false,
    "editable": false,
    "jupyter": {
     "outputs_hidden": false
    },
    "nbgrader": {
     "cell_type": "code",
     "checksum": "af55b2a389d7999be0c3ab7e709ffe6d",
     "grade": true,
     "grade_id": "cell-1a0e87f96e13f6a4",
     "locked": true,
     "points": 1,
     "schema_version": 3,
     "solution": false,
     "task": false
    }
   },
   "outputs": [],
   "source": [
    "# Question 2 Grading Checks\n",
    "\n",
    "assert isinstance(first_country, str), 'Your variable is not a string'\n",
    "assert isinstance(last_country, str), 'Your variable is not a string'\n"
   ]
  },
  {
   "cell_type": "markdown",
   "metadata": {
    "deletable": false,
    "editable": false,
    "jupyter": {
     "outputs_hidden": false
    },
    "nbgrader": {
     "cell_type": "markdown",
     "checksum": "1239fd8d90b5e62f37127e9f0c26b198",
     "grade": false,
     "grade_id": "cell-f88c2c833f11ffa3",
     "locked": true,
     "schema_version": 3,
     "solution": false,
     "task": false
    }
   },
   "source": [
    "#### Question 3\n",
    "\n",
    "Using the `countries` list, add a country to the end of the list and then assign the last 3 countries to a variable called `last_three_countries`.\n"
   ]
  },
  {
   "cell_type": "code",
   "execution_count": 5,
   "metadata": {
    "deletable": false,
    "jupyter": {
     "outputs_hidden": false
    },
    "nbgrader": {
     "cell_type": "code",
     "checksum": "3dc2d2b992ca2139d3b1ee32901bfa7d",
     "grade": false,
     "grade_id": "cell-5bc224fb57e5e3f0",
     "locked": false,
     "schema_version": 3,
     "solution": true,
     "task": false
    }
   },
   "outputs": [],
   "source": [
    "last_three_countries = countries[-3:]"
   ]
  },
  {
   "cell_type": "code",
   "execution_count": 6,
   "metadata": {
    "deletable": false,
    "editable": false,
    "jupyter": {
     "outputs_hidden": false
    },
    "nbgrader": {
     "cell_type": "code",
     "checksum": "17b9b5c1b83ab347dcb08d6b74082d02",
     "grade": true,
     "grade_id": "cell-8fc6b48f4b0c446a",
     "locked": true,
     "points": 1,
     "schema_version": 3,
     "solution": false,
     "task": false
    }
   },
   "outputs": [],
   "source": [
    "# Question 3 Grading Checks\n",
    "\n",
    "assert isinstance(last_three_countries, list), 'Your variable is not a list'\n"
   ]
  },
  {
   "cell_type": "markdown",
   "metadata": {
    "deletable": false,
    "editable": false,
    "jupyter": {
     "outputs_hidden": false
    },
    "nbgrader": {
     "cell_type": "markdown",
     "checksum": "51978c0ba0a976a82f41e0251326dff0",
     "grade": false,
     "grade_id": "cell-9b576afaa5c0fa9f",
     "locked": true,
     "schema_version": 3,
     "solution": false,
     "task": false
    }
   },
   "source": [
    "#### Question 4\n",
    "\n",
    "You're given a tuple containing superheroes, unpack the tuple into variables `superman`, `batman`, and `black_panther`\n"
   ]
  },
  {
   "cell_type": "code",
   "execution_count": 7,
   "metadata": {
    "deletable": false,
    "editable": false,
    "jupyter": {
     "outputs_hidden": false
    },
    "nbgrader": {
     "cell_type": "code",
     "checksum": "c7051bfe5a7dc059edcb4ad6bb2b216c",
     "grade": false,
     "grade_id": "cell-fc5153f07a3025f0",
     "locked": true,
     "schema_version": 3,
     "solution": false,
     "task": false
    }
   },
   "outputs": [],
   "source": [
    "# Given tuple\n",
    "\n",
    "superheroes = ('Superman', 'Batman', 'Black Panther')"
   ]
  },
  {
   "cell_type": "code",
   "execution_count": 8,
   "metadata": {
    "deletable": false,
    "jupyter": {
     "outputs_hidden": false
    },
    "nbgrader": {
     "cell_type": "code",
     "checksum": "6b643646fe93ad591d7474c355764ec1",
     "grade": false,
     "grade_id": "cell-b1e856700a857c95",
     "locked": false,
     "schema_version": 3,
     "solution": true,
     "task": false
    }
   },
   "outputs": [],
   "source": [
    "superman, batman, black_panther = superheroes"
   ]
  },
  {
   "cell_type": "code",
   "execution_count": 9,
   "metadata": {
    "deletable": false,
    "editable": false,
    "jupyter": {
     "outputs_hidden": false
    },
    "nbgrader": {
     "cell_type": "code",
     "checksum": "8de02a2697c74e04913a159e491be153",
     "grade": true,
     "grade_id": "cell-daf55b2d5796fc09",
     "locked": true,
     "points": 1,
     "schema_version": 3,
     "solution": false,
     "task": false
    }
   },
   "outputs": [],
   "source": [
    "# Question 6 Grading Checks\n",
    "\n",
    "assert isinstance(superman, str), 'Your variable is not a string'\n",
    "assert isinstance(batman, str), 'Your variable is not a string'\n",
    "assert isinstance(black_panther, str), 'Your variable is not a string'\n"
   ]
  },
  {
   "cell_type": "code",
   "execution_count": null,
   "metadata": {},
   "outputs": [],
   "source": []
  }
 ],
 "metadata": {
  "kernelspec": {
   "display_name": "Python 3",
   "language": "python",
   "name": "python3"
  },
  "language_info": {
   "codemirror_mode": {
    "name": "ipython",
    "version": 3
   },
   "file_extension": ".py",
   "mimetype": "text/x-python",
   "name": "python",
   "nbconvert_exporter": "python",
   "pygments_lexer": "ipython3",
   "version": "3.7.6"
  }
 },
 "nbformat": 4,
 "nbformat_minor": 4
}
