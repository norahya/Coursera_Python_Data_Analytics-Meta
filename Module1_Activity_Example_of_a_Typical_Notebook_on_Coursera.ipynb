{
 "cells": [
  {
   "cell_type": "markdown",
   "metadata": {
    "deletable": false,
    "editable": false,
    "nbgrader": {
     "cell_type": "markdown",
     "checksum": "a6515483d762b6839872df3ae024c0ed",
     "grade": false,
     "grade_id": "cell-da60c9ac95c62565",
     "locked": true,
     "schema_version": 3,
     "solution": false,
     "task": false
    }
   },
   "source": [
    "# Activity: Example of a Typical Notebook on Coursera\n",
    "\n",
    "## Introduction\n",
    "\n",
    "In this activity you will practice using Jupyter Notebook on Coursera. This is\n",
    "a simple activity to get you familiar with activities using Jupyter Notebook in\n",
    "this course.\n",
    "\n",
    "The next video for the course will be a recording walkthrough going over this\n",
    "activity! So if you're feeling a bit stuck, feel free to look at the video\n",
    "walkthrough first!\n",
    "\n",
    "This activity will cover the following topics:\n",
    "- Running a \"frozen\" cell\n",
    "- Running an editable cell\n",
    "- Using & running the \"frozen\" question checking cell "
   ]
  },
  {
   "cell_type": "markdown",
   "metadata": {
    "deletable": false,
    "editable": false,
    "nbgrader": {
     "cell_type": "markdown",
     "checksum": "7944638986373bb05d198dec6cd758a0",
     "grade": false,
     "grade_id": "cell-ce489bbf31d4e626",
     "locked": true,
     "schema_version": 3,
     "solution": false,
     "task": false
    }
   },
   "source": [
    "#### Question 1\n",
    "\n",
    "The cell below is \"frozen\" and therefore can't edited. However, you can (and\n",
    "should) run the cell.\n",
    "\n",
    "In the cell, you'll see Python \"comments\" marked with a `#` at the beginning\n",
    "of the line. These lines are commonly used to help give context about the Python\n",
    "code written. In these activities, these are usually direct and/or hints about\n",
    "the question.\n",
    "\n",
    "You'll also see some simple Python code. Again, you can't edit this cell. But\n",
    "running this cell will still execute the code within the cell.\n",
    "\n",
    "**For this question, simply _run the cell below_:**"
   ]
  },
  {
   "cell_type": "code",
   "execution_count": 1,
   "metadata": {
    "deletable": false,
    "editable": false,
    "nbgrader": {
     "cell_type": "code",
     "checksum": "ebfa938ae97fdefdf1fd72b9e46b7c8d",
     "grade": false,
     "grade_id": "cell-204f5070ef102ab8",
     "locked": true,
     "schema_version": 3,
     "solution": false,
     "task": false
    }
   },
   "outputs": [
    {
     "name": "stdout",
     "output_type": "stream",
     "text": [
      "Hello!\n"
     ]
    }
   ],
   "source": [
    "# This cell is \"frozen\" and can't be edited\n",
    "# But this cell can be run\n",
    "\n",
    "# Run this cell\n",
    "greeting = 'Hello!'\n",
    "print(greeting)"
   ]
  },
  {
   "cell_type": "markdown",
   "metadata": {
    "deletable": false,
    "editable": false,
    "nbgrader": {
     "cell_type": "markdown",
     "checksum": "ba25c617f71c900ee248f7202259f0ab",
     "grade": false,
     "grade_id": "cell-d7c4c80883dac98a",
     "locked": true,
     "schema_version": 3,
     "solution": false,
     "task": false
    }
   },
   "source": [
    "After running the cell, there is a ***\"Question Grading Checks\"*** cell.\n",
    "This cell comes after the work done for the question and is \"frozen\" (can't be\n",
    "edited but can be run).\n",
    "\n",
    "This cell has two purposes:\n",
    "1. Running this cell, gives you a quick \"check\" to see if your code is \"correct\" \n",
    "   enough. \n",
    "   - If it is \"correct\", the cell should pretty much do \"nothing\".\n",
    "   - However, if your code isn't quite right, it may trigger an error. You\n",
    "     should change your code (possibly doing a kernal restart as well) and rerun\n",
    "     your code and the ***\"Question Grading Checks\"*** cell.\n",
    "2. There are sometimes \"hidden checks\" that will only be run when you submit the\n",
    "   activity. These will run against your code.\n",
    "\n",
    "**To check your question, simply _run the cell below_:**"
   ]
  },
  {
   "cell_type": "code",
   "execution_count": 2,
   "metadata": {
    "deletable": false,
    "editable": false,
    "nbgrader": {
     "cell_type": "code",
     "checksum": "700b433327c70901694eac87f71adcbb",
     "grade": true,
     "grade_id": "cell-699f774bb9a3c032",
     "locked": true,
     "points": 1,
     "schema_version": 3,
     "solution": false,
     "task": false
    }
   },
   "outputs": [],
   "source": [
    "# Question 1 Grading Checks\n",
    "# Note this cell is \"frozen\" and not editable, but can still be run\n",
    "\n",
    "assert greeting == 'Hello!', 'Did you run the cell above with Python code?'"
   ]
  },
  {
   "cell_type": "markdown",
   "metadata": {
    "deletable": false,
    "editable": false,
    "nbgrader": {
     "cell_type": "markdown",
     "checksum": "375c019e69a7e6ab74c2cfd7621b3d33",
     "grade": false,
     "grade_id": "cell-c665f513cd96cca3",
     "locked": true,
     "schema_version": 3,
     "solution": false,
     "task": false
    }
   },
   "source": [
    "#### Question 2\n",
    "\n",
    "The cell below is a normal cell and can be edited by you to put in your code to\n",
    "answer the question.\n",
    "\n",
    "This time, to show you what the ***\"Question Grading Checks\"*** cell looks like\n",
    "when your code isn't \"correct\", you'll do the following:\n",
    "\n",
    "1. **First** _run the cell below with **no edits**_\n",
    "2. **Second** _run the next cell, the ***\"Question Grading Checks\"*** cell._\n",
    "   - This will produce an error. This is what the cell's output looks like if\n",
    "     your code is not \"correct\".\n",
    "3. **Third** _edit the cell so it instead has `number_one = 1` and run the cell_\n",
    "   - This is the correct answer.\n",
    "4. **Lastly** _run the following cell, the ***\"Question Grading Checks\"*** cell._\n",
    "   - If you ran the cell above the ***\"Question Grading Checks\"*** cell after\n",
    "     editing the code, you should see ***no output*** from the ***\"Question\n",
    "     Grading Checks\"*** cell.\n",
    "\n",
    "In general, if the ***\"Question Grading Checks\"*** cell gives no error, your \n",
    "code is _likely_ correct."
   ]
  },
  {
   "cell_type": "code",
   "execution_count": 3,
   "metadata": {
    "deletable": false,
    "nbgrader": {
     "cell_type": "code",
     "checksum": "107c52060c57dc75189ba131971c702b",
     "grade": false,
     "grade_id": "cell-38ed0b6042e4c7d4",
     "locked": false,
     "schema_version": 3,
     "solution": true,
     "task": false
    }
   },
   "outputs": [],
   "source": [
    "# Your code here\n",
    "# REMINDER:\n",
    "## First: run this cell with no modifications\n",
    "## Second: run the \"Question Grading Checks\" cell; this will give an error\n",
    "## Third: edit and then run this cell so the code instead says: number_one = 1\n",
    "## Lastly: run the \"Question Grading Checks\" cell; this will give no output\n",
    "number_one = 1\n",
    "\n",
    "# your code here\n"
   ]
  },
  {
   "cell_type": "code",
   "execution_count": 4,
   "metadata": {
    "deletable": false,
    "editable": false,
    "nbgrader": {
     "cell_type": "code",
     "checksum": "0c1005115e3ec5c87ff7314899006bf3",
     "grade": true,
     "grade_id": "cell-17bac1e5eb98a8d3",
     "locked": true,
     "points": 1,
     "schema_version": 3,
     "solution": false,
     "task": false
    }
   },
   "outputs": [],
   "source": [
    "# Question 2 Grading Checks\n",
    "\n",
    "assert number_one == 1, 'Did you edit and run the cell so it has: number_one = 1'"
   ]
  },
  {
   "cell_type": "markdown",
   "metadata": {
    "deletable": false,
    "editable": false,
    "nbgrader": {
     "cell_type": "markdown",
     "checksum": "6068c428f0f2721daf1863513db8ced8",
     "grade": false,
     "grade_id": "cell-a47e1c7e688a0d35",
     "locked": true,
     "schema_version": 3,
     "solution": false,
     "task": false
    }
   },
   "source": [
    "#### Question 3\n",
    "\n",
    "This final question will demonstrate what happens when you have code that \n",
    "_passes_ the ***\"Question Grading Checks\"*** cell when working on the activity\n",
    "in the notebook, but _does not pass_ the \"hidden checks\" that are used to score\n",
    "the assignment when it is submitted. But don't worry, you can always make\n",
    "changes and resubmit to get the answer right!\n",
    "\n",
    "To best demonstrate this, the cell below is editable but already has some code\n",
    "in the cell. Specically, it has the code `this_question = 1`. This is actually\n",
    "_incorrect_; the correct answer is actually `this_question = 3`.\n",
    "\n",
    "Here are the steps you should do:\n",
    "1. **First** _run the cell below with **no edits**_\n",
    "2. **Second** _run the next cell, the ***\"Question Grading Checks\"*** cell._\n",
    "   - This will _not_ produce an error and you should see ***no output*** from\n",
    "     the ***\"Question Grading Checks\"*** cell. This is because the code passes\n",
    "     the check from this cell.\n",
    "   - However, there are _\"hidden checks\"_ that will only run when this\n",
    "     activity assignment is submitted. If you followed along so far, this\n",
    "     question will be marked _wrong_.\n",
    "3. **Third** _submit the activity (at the top of the notebook page)_\n",
    "   - This will submit the notebook and you can see the \"grade\" for your activity\n",
    "     assignment. You should see that you will recieve 0 points for this\n",
    "     question.\n",
    "   - But don't worry! This won't affect you passing the course! If you want, you\n",
    "     can reopen the assignment and correct the code to recieve full points.\n",
    "4. **[OPTIONAL] Finally** _reopen the assignment, change the code for this\n",
    "   question to `this_question = 3`. Then resubmit this activity assignment._\n",
    "   - After submitting, you'll see a new grade for this assignment, and you\n",
    "     should recieve the full points for this question!\n",
    "\n",
    "In general, if the ***\"Question Grading Checks\"*** cell gives no error, your \n",
    "code is _likely_ correct. But there might be hidden checks.\n",
    "\n",
    "***REMEMBER: You can always make changes and resubmit an activity assignment to get full\n",
    "points***"
   ]
  },
  {
   "cell_type": "code",
   "execution_count": 5,
   "metadata": {
    "deletable": false,
    "nbgrader": {
     "cell_type": "code",
     "checksum": "81a5449f8d8ddc158eb71646564d60d1",
     "grade": false,
     "grade_id": "cell-b35f93ae2783dbb5",
     "locked": false,
     "schema_version": 3,
     "solution": true,
     "task": false
    }
   },
   "outputs": [],
   "source": [
    "# Note this is the \"wrong\" answer, but submit anyway\n",
    "this_question = 1\n",
    "# After submitting at least once, you can get the correct answer by instead\n",
    "# changing the code to look like this:\n",
    "this_question = 3\n",
    "\n",
    "# your code here\n"
   ]
  },
  {
   "cell_type": "code",
   "execution_count": 6,
   "metadata": {
    "deletable": false,
    "editable": false,
    "nbgrader": {
     "cell_type": "code",
     "checksum": "99311518a9a2aa9bcafca84f8cdb6329",
     "grade": true,
     "grade_id": "cell-913d39e020f3a6be",
     "locked": true,
     "points": 1,
     "schema_version": 3,
     "solution": false,
     "task": false
    }
   },
   "outputs": [],
   "source": [
    "# Question 3 Grading Checks\n",
    "\n",
    "assert this_question > 0, 'Did you change the code for this_question = ... ?'"
   ]
  },
  {
   "cell_type": "code",
   "execution_count": null,
   "metadata": {},
   "outputs": [],
   "source": []
  }
 ],
 "metadata": {
  "kernelspec": {
   "display_name": "Python 3",
   "language": "python",
   "name": "python3"
  },
  "language_info": {
   "codemirror_mode": {
    "name": "ipython",
    "version": 3
   },
   "file_extension": ".py",
   "mimetype": "text/x-python",
   "name": "python",
   "nbconvert_exporter": "python",
   "pygments_lexer": "ipython3",
   "version": "3.7.6"
  }
 },
 "nbformat": 4,
 "nbformat_minor": 2
}
